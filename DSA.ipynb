{
 "cells": [
  {
   "cell_type": "code",
   "execution_count": 2,
   "id": "bd707a2b",
   "metadata": {},
   "outputs": [
    {
     "name": "stdout",
     "output_type": "stream",
     "text": [
      "3\n"
     ]
    }
   ],
   "source": [
    "#Linear search\n",
    "a=[10,20,43,1234,3,446,56,67,3,4,5,4356,34,56,56,7,3,23,45,34,5,45,645,2]\n",
    "b=1234\n",
    "for i in range(0,len(a)):\n",
    "    if b==a[i]:\n",
    "        print(i)"
   ]
  },
  {
   "cell_type": "code",
   "execution_count": 10,
   "id": "6783ecac",
   "metadata": {},
   "outputs": [
    {
     "name": "stdout",
     "output_type": "stream",
     "text": [
      "2\n"
     ]
    }
   ],
   "source": [
    "# binary search \n",
    "a=[1,4,2,5,35,663,234,54]\n",
    "a=sorted(a)\n",
    "key=4\n",
    "low=0\n",
    "high=len(a)-1\n",
    "while low<=high:\n",
    "    mid=low+(high-low)//2\n",
    "    if a[mid]==key:\n",
    "        print(mid)\n",
    "        break\n",
    "    elif key>a[mid]:\n",
    "        low=mid+1\n",
    "    else:\n",
    "        high=mid-1\n",
    "        \n",
    "        \n",
    "    "
   ]
  },
  {
   "cell_type": "code",
   "execution_count": null,
   "id": "57cad3aa",
   "metadata": {},
   "outputs": [],
   "source": []
  }
 ],
 "metadata": {
  "kernelspec": {
   "display_name": "Python 3 (ipykernel)",
   "language": "python",
   "name": "python3"
  },
  "language_info": {
   "codemirror_mode": {
    "name": "ipython",
    "version": 3
   },
   "file_extension": ".py",
   "mimetype": "text/x-python",
   "name": "python",
   "nbconvert_exporter": "python",
   "pygments_lexer": "ipython3",
   "version": "3.11.4"
  }
 },
 "nbformat": 4,
 "nbformat_minor": 5
}
